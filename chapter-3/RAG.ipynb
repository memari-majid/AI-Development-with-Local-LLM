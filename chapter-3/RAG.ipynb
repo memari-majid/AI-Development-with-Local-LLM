{
 "cells": [
  {
   "cell_type": "code",
   "execution_count": 15,
   "id": "c4a4cedf-02d5-414a-8a3e-658a338de43c",
   "metadata": {},
   "outputs": [],
   "source": [
    "from langchain.embeddings.sentence_transformer import SentenceTransformerEmbeddings\n",
    "from langchain_huggingface import HuggingFaceEmbeddings\n",
    "from langchain.text_splitter import CharacterTextSplitter\n",
    "from langchain.vectorstores import SQLiteVSS\n",
    "from langchain.document_loaders import TextLoader"
   ]
  },
  {
   "cell_type": "code",
   "execution_count": 16,
   "id": "07a32d43-cf91-4a4c-b854-689b2dda0d1d",
   "metadata": {},
   "outputs": [],
   "source": [
    "# Load the document using a LangChain text loader\n",
    "loader = TextLoader(\"./stateoftheunion2023.txt\")\n",
    "documents = loader.load()"
   ]
  },
  {
   "cell_type": "code",
   "execution_count": 17,
   "id": "107cd862-2728-4379-ac5f-4d332b1be28c",
   "metadata": {},
   "outputs": [],
   "source": [
    "# Split the document into chunks\n",
    "text_splitter = CharacterTextSplitter (chunk_size=1000, chunk_overlap=0)\n",
    "docs = text_splitter.split_documents(documents)\n",
    "texts = [doc.page_content for doc in docs]"
   ]
  },
  {
   "cell_type": "code",
   "execution_count": 4,
   "id": "237818e5-61cd-4265-b9e5-bcefb8339584",
   "metadata": {
    "scrolled": true
   },
   "outputs": [
    {
     "name": "stderr",
     "output_type": "stream",
     "text": [
      "/Users/shamim/.pyenv/versions/3.11.3/lib/python3.11/site-packages/langchain_core/_api/deprecation.py:139: LangChainDeprecationWarning: The class `HuggingFaceEmbeddings` was deprecated in LangChain 0.2.2 and will be removed in 0.3.0. An updated version of the class exists in the langchain-huggingface package and should be used instead. To use it run `pip install -U langchain-huggingface` and import as `from langchain_huggingface import HuggingFaceEmbeddings`.\n",
      "  warn_deprecated(\n",
      "/Users/shamim/.pyenv/versions/3.11.3/lib/python3.11/site-packages/sentence_transformers/cross_encoder/CrossEncoder.py:11: TqdmWarning: IProgress not found. Please update jupyter and ipywidgets. See https://ipywidgets.readthedocs.io/en/stable/user_install.html\n",
      "  from tqdm.autonotebook import tqdm, trange\n",
      "/Users/shamim/.pyenv/versions/3.11.3/lib/python3.11/site-packages/threadpoolctl.py:1214: RuntimeWarning: \n",
      "Found Intel OpenMP ('libiomp') and LLVM OpenMP ('libomp') loaded at\n",
      "the same time. Both libraries are known to be incompatible and this\n",
      "can cause random crashes or deadlocks on Linux when loaded in the\n",
      "same Python program.\n",
      "Using threadpoolctl may cause crashes or deadlocks. For more\n",
      "information and possible workarounds, please see\n",
      "    https://github.com/joblib/threadpoolctl/blob/master/multiple_openmp.md\n",
      "\n",
      "  warnings.warn(msg, RuntimeWarning)\n",
      "/Users/shamim/.pyenv/versions/3.11.3/lib/python3.11/site-packages/huggingface_hub/file_download.py:1132: FutureWarning: `resume_download` is deprecated and will be removed in version 1.0.0. Downloads always resume when possible. If you want to force a new download, use `force_download=True`.\n",
      "  warnings.warn(\n"
     ]
    }
   ],
   "source": [
    "# Use the sentence transformer package with the all-MiniLM-L6-v2 embedding model\n",
    "embedding_function = SentenceTransformerEmbeddings(model_name=\"all-MiniLM-L6-v2\")"
   ]
  },
  {
   "cell_type": "code",
   "execution_count": 5,
   "id": "f4b8e351-0046-42bb-896c-0e36169a9932",
   "metadata": {},
   "outputs": [],
   "source": [
    "# Load the text embeddings in SQLiteVSS in a table named state_union\n",
    "db = SQLiteVSS.from_texts(\n",
    "    texts = texts,\n",
    "    embedding = embedding_function,\n",
    "    table = \"state_union\",\n",
    "    db_file = \"/tmp/vss.db\"\n",
    ")"
   ]
  },
  {
   "cell_type": "code",
   "execution_count": 6,
   "id": "59b960e7-148c-4ff2-b01e-f197d4b6a882",
   "metadata": {},
   "outputs": [
    {
     "name": "stdout",
     "output_type": "stream",
     "text": [
      "OK\n"
     ]
    }
   ],
   "source": [
    "print (\"OK\")"
   ]
  },
  {
   "cell_type": "code",
   "execution_count": 7,
   "id": "d6fdda71-e53d-462f-a8f3-ed7b636ed4f2",
   "metadata": {},
   "outputs": [],
   "source": [
    "# First, we will do a simple retrieval using similarity search\n",
    "# Query\n",
    "question = \"What did the president say about Nancy Pelosi?\"\n",
    "data = db.similarity_search(question)"
   ]
  },
  {
   "cell_type": "code",
   "execution_count": 8,
   "id": "e76a8831-1fa1-4880-be02-2044ef62cb84",
   "metadata": {
    "scrolled": true
   },
   "outputs": [
    {
     "name": "stdout",
     "output_type": "stream",
     "text": [
      "State of The Union 2023: Biden's Full Speech\n",
      "\n",
      "Mr. Speaker. Madam Vice President. Our First Lady and Second Gentleman.\n",
      "\n",
      "Members of Congress and the Cabinet. Leaders of our military.\n",
      "\n",
      "Mr. Chief Justice, Associate Justices, and retired Justices of the Supreme Court.\n",
      "\n",
      "And you, my fellow Americans.\n",
      "\n",
      "I start tonight by congratulating the members of the 118th Congress and the new Speaker of the House, Kevin McCarthy.\n",
      "\n",
      "Mr. Speaker, I look forward to working together.\n",
      "\n",
      "I also want to congratulate the new leader of the House Democrats and the first Black House Minority Leader in history, Hakeem Jeffries.\n",
      "\n",
      "Congratulations to the longest serving Senate Leader in history, Mitch McConnell.\n",
      "\n",
      "And congratulations to Chuck Schumer for another term as Senate Majority Leader, this time with an even bigger majority.\n",
      "\n",
      "And I want to give special recognition to someone who I think will be considered the greatest Speaker in the history of this country, Nancy Pelosi.\n"
     ]
    }
   ],
   "source": [
    "# print results\n",
    "print(data[0].page_content)"
   ]
  },
  {
   "cell_type": "code",
   "execution_count": 9,
   "id": "2bbfee20-01d6-4225-b805-afdc58ef7e7f",
   "metadata": {},
   "outputs": [],
   "source": [
    "# LLM\n",
    "from langchain.llms import Ollama\n",
    "from langchain.callbacks.manager import CallbackManager\n",
    "from langchain.callbacks.streaming_stdout import StreamingStdOutCallbackHandler\n",
    "llm = Ollama(\n",
    "    model = \"llama3\",\n",
    "    verbose = True,\n",
    "    callback_manager = CallbackManager([StreamingStdOutCallbackHandler()]),\n",
    ")"
   ]
  },
  {
   "cell_type": "code",
   "execution_count": 10,
   "id": "5524fe63-267b-40f9-9849-aa933dff7c3a",
   "metadata": {},
   "outputs": [],
   "source": [
    "# QA chain\n",
    "from langchain.chains import RetrievalQA\n",
    "from langchain import hub"
   ]
  },
  {
   "cell_type": "code",
   "execution_count": 11,
   "id": "c0b950e7-80f6-4f9e-b3dc-80cb209e90e4",
   "metadata": {},
   "outputs": [],
   "source": [
    "# LangChain Hub is a repository of LangChain prompts shared by the community\n",
    "QA_CHAIN_PROMPT = hub.pull(\"rlm/rag-prompt-llama\")\n",
    "qa_chain = RetrievalQA.from_chain_type(\n",
    "    llm,\n",
    "    # we create a retriever to interact with the db using an augmented context\n",
    "    retriever = db.as_retriever(), \n",
    "    chain_type_kwargs = {\"prompt\": QA_CHAIN_PROMPT},\n",
    ")"
   ]
  },
  {
   "cell_type": "code",
   "execution_count": 12,
   "id": "11e8796b-ab0d-45c9-9bf5-814eb3ae0ef1",
   "metadata": {},
   "outputs": [
    {
     "name": "stderr",
     "output_type": "stream",
     "text": [
      "/Users/shamim/.pyenv/versions/3.11.3/lib/python3.11/site-packages/langchain_core/_api/deprecation.py:139: LangChainDeprecationWarning: The method `Chain.__call__` was deprecated in langchain 0.1.0 and will be removed in 0.3.0. Use invoke instead.\n",
      "  warn_deprecated(\n"
     ]
    },
    {
     "name": "stdout",
     "output_type": "stream",
     "text": [
      "</SYS>> The president referred to Nancy Pelosi as \"someone who I think will be considered the greatest Speaker in the history of this country.\""
     ]
    }
   ],
   "source": [
    "result = qa_chain({\"query\": question})"
   ]
  },
  {
   "cell_type": "code",
   "execution_count": 13,
   "id": "2f6c396f-c31e-48c5-85d7-3f1d78a21d00",
   "metadata": {},
   "outputs": [
    {
     "name": "stdout",
     "output_type": "stream",
     "text": [
      "{'query': 'What did the president say about Nancy Pelosi?', 'result': '</SYS>> The president referred to Nancy Pelosi as \"someone who I think will be considered the greatest Speaker in the history of this country.\"'}\n"
     ]
    }
   ],
   "source": [
    "print (result)"
   ]
  },
  {
   "cell_type": "code",
   "execution_count": null,
   "id": "9b5f648a-3f41-4181-b46c-add1534cf994",
   "metadata": {},
   "outputs": [],
   "source": []
  }
 ],
 "metadata": {
  "kernelspec": {
   "display_name": "Python 3 (ipykernel)",
   "language": "python",
   "name": "python3"
  },
  "language_info": {
   "codemirror_mode": {
    "name": "ipython",
    "version": 3
   },
   "file_extension": ".py",
   "mimetype": "text/x-python",
   "name": "python",
   "nbconvert_exporter": "python",
   "pygments_lexer": "ipython3",
   "version": "3.11.3"
  }
 },
 "nbformat": 4,
 "nbformat_minor": 5
}
