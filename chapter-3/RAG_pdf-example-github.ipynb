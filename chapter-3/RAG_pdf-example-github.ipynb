{
 "cells": [
  {
   "cell_type": "code",
   "execution_count": null,
   "id": "1c312526-2372-46a1-b3e1-7028516492c8",
   "metadata": {},
   "outputs": [],
   "source": [
    "#install necessary package \n",
    "#!pip install --upgrade langchain\n",
    "#!pip install -U langchain-community\n",
    "#!pip install -U langchain-huggingface\n",
    "#!pip install sentence-transformers\n",
    "#!pip install --upgrade --quiet  sqlite-vss\n",
    "#!pip install --upgrade --quiet pypdf # for parsing PDF documents"
   ]
  },
  {
   "cell_type": "code",
   "execution_count": null,
   "id": "c4a4cedf-02d5-414a-8a3e-658a338de43c",
   "metadata": {},
   "outputs": [],
   "source": [
    "from langchain.embeddings.sentence_transformer import SentenceTransformerEmbeddings\n",
    "from langchain_huggingface import HuggingFaceEmbeddings\n",
    "from langchain.text_splitter import CharacterTextSplitter\n",
    "from langchain.vectorstores import SQLiteVSS\n",
    "#from langchain.document_loaders import TextLoader\n",
    "from langchain_community.document_loaders import PyPDFLoader"
   ]
  },
  {
   "cell_type": "code",
   "execution_count": null,
   "id": "07a32d43-cf91-4a4c-b854-689b2dda0d1d",
   "metadata": {},
   "outputs": [],
   "source": [
    "# Load the document using a LangChain PyPDFLoader \n",
    "file_path_pdf=\"./ignitebook-sample.pdf\"\n",
    "\n",
    "loader = PyPDFLoader(file_path_pdf)\n",
    "pages = loader.load_and_split()\n",
    "\n",
    "print (\"Page counts: \",  len(pages))\n"
   ]
  },
  {
   "cell_type": "code",
   "execution_count": null,
   "id": "107cd862-2728-4379-ac5f-4d332b1be28c",
   "metadata": {},
   "outputs": [],
   "source": [
    "# Split the document into chunks, chunk size 1k\n",
    "text_splitter = CharacterTextSplitter (chunk_size=1000, chunk_overlap=0)\n",
    "docs = text_splitter.split_documents(pages)\n",
    "texts = [doc.page_content for doc in docs]"
   ]
  },
  {
   "cell_type": "code",
   "execution_count": null,
   "id": "237818e5-61cd-4265-b9e5-bcefb8339584",
   "metadata": {
    "scrolled": true
   },
   "outputs": [],
   "source": [
    "# Use the sentence transformer package with the all-MiniLM-L6-v2 embedding model\n",
    "embedding_function = SentenceTransformerEmbeddings(model_name=\"all-MiniLM-L6-v2\")"
   ]
  },
  {
   "cell_type": "code",
   "execution_count": null,
   "id": "f4b8e351-0046-42bb-896c-0e36169a9932",
   "metadata": {},
   "outputs": [],
   "source": [
    "# Load the text embeddings in SQLiteVSS in a table named PyPDFLoader\n",
    "db = SQLiteVSS.from_texts(\n",
    "    texts = texts,\n",
    "    embedding = embedding_function,\n",
    "    table = \"ignite_book\",\n",
    "    db_file = \"/tmp/vss.db\"\n",
    ")"
   ]
  },
  {
   "cell_type": "code",
   "execution_count": null,
   "id": "59b960e7-148c-4ff2-b01e-f197d4b6a882",
   "metadata": {},
   "outputs": [],
   "source": [
    "print (\"Loading finished!\")"
   ]
  },
  {
   "cell_type": "code",
   "execution_count": null,
   "id": "d6fdda71-e53d-462f-a8f3-ed7b636ed4f2",
   "metadata": {},
   "outputs": [],
   "source": [
    "# A similarity/semantic search\n",
    "# prompt\n",
    "question = \"What is Data partitioning in Ignite?\"\n",
    "data = db.similarity_search(question)"
   ]
  },
  {
   "cell_type": "code",
   "execution_count": null,
   "id": "e76a8831-1fa1-4880-be02-2044ef62cb84",
   "metadata": {
    "scrolled": true
   },
   "outputs": [],
   "source": [
    "# print results\n",
    "print(data[0].page_content)"
   ]
  },
  {
   "cell_type": "code",
   "execution_count": null,
   "id": "2bbfee20-01d6-4225-b805-afdc58ef7e7f",
   "metadata": {},
   "outputs": [],
   "source": [
    "# LLM\n",
    "from langchain.llms import Ollama\n",
    "from langchain.callbacks.manager import CallbackManager\n",
    "from langchain.callbacks.streaming_stdout import StreamingStdOutCallbackHandler\n",
    "llm = Ollama(\n",
    "    model = \"llama3.1\",\n",
    "    base_url='http://192.168.1.124:11434',\n",
    "    verbose = True,\n",
    "    callback_manager = CallbackManager([StreamingStdOutCallbackHandler()]),\n",
    ")"
   ]
  },
  {
   "cell_type": "code",
   "execution_count": null,
   "id": "5524fe63-267b-40f9-9849-aa933dff7c3a",
   "metadata": {},
   "outputs": [],
   "source": [
    "# QA chain\n",
    "from langchain.chains import RetrievalQA\n",
    "from langchain import hub\n",
    "import os\n",
    "\n",
    "os.environ[\"LANGCHAIN_API_KEY\"] = \"ADD_YOUR_KEY_HERE\"\n",
    "os.environ[\"LANGCHAIN_TRACING_V2\"] = \"true\"\n",
    "os.environ[\"LANGCHAIN_ENDPOINT\"] = \"https://api.smith.langchain.com\"\n",
    "os.environ[\"LANGCHAIN_PROJECT\"] = 'default'\n"
   ]
  },
  {
   "cell_type": "code",
   "execution_count": null,
   "id": "c0b950e7-80f6-4f9e-b3dc-80cb209e90e4",
   "metadata": {},
   "outputs": [],
   "source": [
    "\n",
    "QA_CHAIN_PROMPT = hub.pull(\"rlm/rag-prompt-llama\")\n",
    "\n",
    "qa_chain = RetrievalQA.from_chain_type(\n",
    "    llm,\n",
    "    # we create a retriever to interact with the db using an augmented context\n",
    "    retriever = db.as_retriever(), \n",
    "    chain_type_kwargs = {\"prompt\": QA_CHAIN_PROMPT},\n",
    ")"
   ]
  },
  {
   "cell_type": "code",
   "execution_count": null,
   "id": "11e8796b-ab0d-45c9-9bf5-814eb3ae0ef1",
   "metadata": {},
   "outputs": [],
   "source": [
    "result = qa_chain({\"query\": question})"
   ]
  },
  {
   "cell_type": "code",
   "execution_count": null,
   "id": "2f6c396f-c31e-48c5-85d7-3f1d78a21d00",
   "metadata": {},
   "outputs": [],
   "source": [
    "print (\"Finished!\")"
   ]
  }
 ],
 "metadata": {
  "kernelspec": {
   "display_name": "Python 3 (ipykernel)",
   "language": "python",
   "name": "python3"
  },
  "language_info": {
   "codemirror_mode": {
    "name": "ipython",
    "version": 3
   },
   "file_extension": ".py",
   "mimetype": "text/x-python",
   "name": "python",
   "nbconvert_exporter": "python",
   "pygments_lexer": "ipython3",
   "version": "3.11.3"
  }
 },
 "nbformat": 4,
 "nbformat_minor": 5
}
