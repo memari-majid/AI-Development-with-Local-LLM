{
 "cells": [
  {
   "cell_type": "code",
   "execution_count": 1,
   "id": "30474321-af84-415d-947f-55e2e926350f",
   "metadata": {},
   "outputs": [
    {
     "name": "stdout",
     "output_type": "stream",
     "text": [
      "Requirement already satisfied: ollama in /opt/miniconda3/envs/jupyter-lab/lib/python3.11/site-packages (0.3.1)\n",
      "Requirement already satisfied: httpx<0.28.0,>=0.27.0 in /opt/miniconda3/envs/jupyter-lab/lib/python3.11/site-packages (from ollama) (0.27.0)\n",
      "Requirement already satisfied: anyio in /opt/miniconda3/envs/jupyter-lab/lib/python3.11/site-packages (from httpx<0.28.0,>=0.27.0->ollama) (4.4.0)\n",
      "Requirement already satisfied: certifi in /opt/miniconda3/envs/jupyter-lab/lib/python3.11/site-packages (from httpx<0.28.0,>=0.27.0->ollama) (2024.8.30)\n",
      "Requirement already satisfied: httpcore==1.* in /opt/miniconda3/envs/jupyter-lab/lib/python3.11/site-packages (from httpx<0.28.0,>=0.27.0->ollama) (1.0.5)\n",
      "Requirement already satisfied: idna in /opt/miniconda3/envs/jupyter-lab/lib/python3.11/site-packages (from httpx<0.28.0,>=0.27.0->ollama) (3.7)\n",
      "Requirement already satisfied: sniffio in /opt/miniconda3/envs/jupyter-lab/lib/python3.11/site-packages (from httpx<0.28.0,>=0.27.0->ollama) (1.3.1)\n",
      "Requirement already satisfied: h11<0.15,>=0.13 in /opt/miniconda3/envs/jupyter-lab/lib/python3.11/site-packages (from httpcore==1.*->httpx<0.28.0,>=0.27.0->ollama) (0.14.0)\n"
     ]
    }
   ],
   "source": [
    "!pip install ollama"
   ]
  },
  {
   "cell_type": "code",
   "execution_count": 2,
   "id": "b6844271-e38f-4e8f-be96-bb726de59b81",
   "metadata": {},
   "outputs": [],
   "source": [
    "import ollama\n",
    "from ollama import chat"
   ]
  },
  {
   "cell_type": "code",
   "execution_count": 3,
   "id": "339b6902-b662-4a7e-b9a3-70a004c97670",
   "metadata": {},
   "outputs": [],
   "source": [
    "messages = [\n",
    "  {\n",
    "    'role': 'user',\n",
    "    'content': 'Write a python program to calculate factorial',\n",
    "  },\n",
    "]"
   ]
  },
  {
   "cell_type": "code",
   "execution_count": 5,
   "id": "b069e369-a4c8-425f-bb1d-25698094fd7b",
   "metadata": {},
   "outputs": [],
   "source": [
    "from ollama import Client\n",
    "client = Client(host='http://IP_ADDRESS:11434')\n",
    "response = client.chat(model='llama3.1', messages=messages)"
   ]
  },
  {
   "cell_type": "code",
   "execution_count": 6,
   "id": "80b15619-939c-4bb2-9aef-6949967bfab4",
   "metadata": {},
   "outputs": [
    {
     "name": "stdout",
     "output_type": "stream",
     "text": [
      "**Factorial Calculator**\n",
      "=======================\n",
      "\n",
      "Below is a simple Python function that calculates the factorial of a given number.\n",
      "\n",
      "```python\n",
      "def factorial(n):\n",
      "    \"\"\"\n",
      "    Calculate the factorial of a number.\n",
      "\n",
      "    Args:\n",
      "        n (int): The input number.\n",
      "\n",
      "    Returns:\n",
      "        int: The factorial of the input number.\n",
      "    \"\"\"\n",
      "    if not isinstance(n, int):\n",
      "        raise TypeError(\"Input must be an integer.\")\n",
      "    \n",
      "    if n < 0:\n",
      "        raise ValueError(\"Input must be non-negative.\")\n",
      "\n",
      "    elif n == 0 or n == 1:\n",
      "        return 1\n",
      "    else:\n",
      "        result = 1\n",
      "        for i in range(2, n + 1):\n",
      "            result *= i\n",
      "        return result\n",
      "\n",
      "# Example usage\n",
      "print(factorial(5))  # Output: 120\n",
      "```\n",
      "\n",
      "This function first checks if the input is a non-negative integer. If not, it raises an error. Then, if the number is 0 or 1 (which have factorial values of 1), it returns immediately. Otherwise, it iterates from 2 to `n` and multiplies each number with the result.\n",
      "\n",
      "**Alternative Recursive Implementation**\n",
      "--------------------------------------\n",
      "\n",
      "Here's a recursive version of the function for completeness:\n",
      "\n",
      "```python\n",
      "def factorial_recursive(n):\n",
      "    \"\"\"\n",
      "    Calculate the factorial of a number using recursion.\n",
      "\n",
      "    Args:\n",
      "        n (int): The input number.\n",
      "\n",
      "    Returns:\n",
      "        int: The factorial of the input number.\n",
      "    \"\"\"\n",
      "    if not isinstance(n, int) or n < 0:\n",
      "        raise ValueError(\"Input must be non-negative integer.\")\n",
      "    \n",
      "    elif n == 0 or n == 1:\n",
      "        return 1\n",
      "    else:\n",
      "        return n * factorial_recursive(n - 1)\n",
      "\n",
      "# Example usage\n",
      "print(factorial_recursive(5))  # Output: 120\n",
      "```\n",
      "\n",
      "However, please note that the recursive approach might not be as efficient for large numbers because it generates a lot of function calls and can exceed Python's maximum recursion depth.\n"
     ]
    }
   ],
   "source": [
    "print(response['message']['content'])"
   ]
  },
  {
   "cell_type": "code",
   "execution_count": null,
   "id": "09c4f261-a304-487b-bd23-5466de0e9f3f",
   "metadata": {},
   "outputs": [],
   "source": []
  }
 ],
 "metadata": {
  "kernelspec": {
   "display_name": "Python 3 (ipykernel)",
   "language": "python",
   "name": "python3"
  },
  "language_info": {
   "codemirror_mode": {
    "name": "ipython",
    "version": 3
   },
   "file_extension": ".py",
   "mimetype": "text/x-python",
   "name": "python",
   "nbconvert_exporter": "python",
   "pygments_lexer": "ipython3",
   "version": "3.11.3"
  }
 },
 "nbformat": 4,
 "nbformat_minor": 5
}
