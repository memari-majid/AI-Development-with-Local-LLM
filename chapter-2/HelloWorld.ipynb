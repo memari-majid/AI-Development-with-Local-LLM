{
 "cells": [
  {
   "cell_type": "code",
   "execution_count": 1,
   "id": "30474321-af84-415d-947f-55e2e926350f",
   "metadata": {},
   "outputs": [
    {
     "name": "stdout",
     "output_type": "stream",
     "text": [
      "Requirement already satisfied: ollama in /opt/miniconda3/envs/jupyter-lab/lib/python3.11/site-packages (0.3.1)\n",
      "Requirement already satisfied: httpx<0.28.0,>=0.27.0 in /opt/miniconda3/envs/jupyter-lab/lib/python3.11/site-packages (from ollama) (0.27.0)\n",
      "Requirement already satisfied: anyio in /opt/miniconda3/envs/jupyter-lab/lib/python3.11/site-packages (from httpx<0.28.0,>=0.27.0->ollama) (4.4.0)\n",
      "Requirement already satisfied: certifi in /opt/miniconda3/envs/jupyter-lab/lib/python3.11/site-packages (from httpx<0.28.0,>=0.27.0->ollama) (2024.7.4)\n",
      "Requirement already satisfied: httpcore==1.* in /opt/miniconda3/envs/jupyter-lab/lib/python3.11/site-packages (from httpx<0.28.0,>=0.27.0->ollama) (1.0.5)\n",
      "Requirement already satisfied: idna in /opt/miniconda3/envs/jupyter-lab/lib/python3.11/site-packages (from httpx<0.28.0,>=0.27.0->ollama) (3.7)\n",
      "Requirement already satisfied: sniffio in /opt/miniconda3/envs/jupyter-lab/lib/python3.11/site-packages (from httpx<0.28.0,>=0.27.0->ollama) (1.3.1)\n",
      "Requirement already satisfied: h11<0.15,>=0.13 in /opt/miniconda3/envs/jupyter-lab/lib/python3.11/site-packages (from httpcore==1.*->httpx<0.28.0,>=0.27.0->ollama) (0.14.0)\n"
     ]
    }
   ],
   "source": [
    "!pip install ollama"
   ]
  },
  {
   "cell_type": "code",
   "execution_count": 2,
   "id": "b6844271-e38f-4e8f-be96-bb726de59b81",
   "metadata": {},
   "outputs": [],
   "source": [
    "import ollama\n",
    "from ollama import chat"
   ]
  },
  {
   "cell_type": "code",
   "execution_count": 3,
   "id": "339b6902-b662-4a7e-b9a3-70a004c97670",
   "metadata": {},
   "outputs": [],
   "source": [
    "messages = [\n",
    "  {\n",
    "    'role': 'user',\n",
    "    'content': 'Write a python game snake',\n",
    "  },\n",
    "]"
   ]
  },
  {
   "cell_type": "code",
   "execution_count": 4,
   "id": "b069e369-a4c8-425f-bb1d-25698094fd7b",
   "metadata": {},
   "outputs": [],
   "source": [
    "from ollama import Client\n",
    "client = Client(host='http://IP_ADDRESS:11434')\n",
    "response = client.chat(model='llama3.1', messages=messages)"
   ]
  },
  {
   "cell_type": "code",
   "execution_count": 5,
   "id": "80b15619-939c-4bb2-9aef-6949967bfab4",
   "metadata": {},
   "outputs": [
    {
     "name": "stdout",
     "output_type": "stream",
     "text": [
      "Here is a simple implementation of the classic Snake game using Python and the Pygame library.\n",
      "\n",
      "```python\n",
      "import pygame\n",
      "import time\n",
      "import random\n",
      "\n",
      "pygame.init()\n",
      "\n",
      "white = (255, 255, 255)\n",
      "yellow = (255, 215, 0)\n",
      "black = (0, 0, 0)\n",
      "\n",
      "dis_width = 600\n",
      "dis_height = 400\n",
      "\n",
      "dis = pygame.display.set_mode((dis_width, dis_height))\n",
      "clock = pygame.time.Clock()\n",
      "\n",
      "font_style = pygame.font.SysFont(\"bahlserif\", 20)\n",
      "\n",
      "def Your_score(score):\n",
      "    value = font_style.render(\"Your Score: \" + str(score), True, yellow)\n",
      "    dis.blit(value, [0, 0])\n",
      "\n",
      "def game_over():\n",
      "    my_font = pygame.font.SysFont(\"timesnewroman\", 30)\n",
      "    value = my_font.render(\"Game Over! Your score is: \" + str(score), True, red)\n",
      "    dis.blit(value, [100, 200])\n",
      "    pygame.display.update()\n",
      "    time.sleep(2)\n",
      "    pygame.quit()\n",
      "\n",
      "def our_snake(snake_list):\n",
      "    for x in snake_list:\n",
      "        pygame.draw.rect(dis, black, [x[0], x[1], 10, 10])\n",
      "\n",
      "def message(msg, color):\n",
      "    mesg = font_style.render(msg, True, color)\n",
      "    dis.blit(mesg, [dis_width / 6, dis_height / 3])\n",
      "\n",
      "def game():\n",
      "    global score\n",
      "    snake_list = []\n",
      "    lead_x = random.randrange(0, (dis_width - 10) // 10)\n",
      "    lead_y = random.randrange(0, (dis_height - 10) // 10)\n",
      "    lead_snake = [lead_x, lead_y]\n",
      "    snake_list.append(lead_snake)\n",
      "\n",
      "    change_to_head = lead_snake\n",
      "\n",
      "    while True:\n",
      "        for event in pygame.event.get():\n",
      "            if event.type == pygame.QUIT:\n",
      "                pygame.quit()\n",
      "                quit()\n",
      "\n",
      "            if event.type == pygame.KEYDOWN:\n",
      "                if event.key == pygame.K_w and change_to_head != [lead_x, lead_y - 10]:\n",
      "                    change_to_head = [lead_x, lead_y - 10]\n",
      "                elif event.key == pygame.K_s and change_to_head != [lead_x, lead_y + 10]:\n",
      "                    change_to_head = [lead_x, lead_y + 10]\n",
      "                elif event.key == pygame.K_a and change_to_head != [lead_x - 10, lead_y]:\n",
      "                    change_to_head = [lead_x - 10, lead_y]\n",
      "                elif event.key == pygame.K_d and change_to_head != [lead_x + 10, lead_y]:\n",
      "                    change_to_head = [lead_x + 10, lead_y]\n",
      "\n",
      "        snake_list.append(change_to_head)\n",
      "\n",
      "        if len(snake_list) > score:\n",
      "            del snake_list[0]\n",
      "\n",
      "        head = snake_list[-1]\n",
      "        if head in snake_list[:-1]:\n",
      "            game_over()\n",
      "            break\n",
      "\n",
      "        if head[0] < 0 or head[0] >= dis_width / 10 or head[1] < 0 or head[1] >= dis_height / 10:\n",
      "            game_over()\n",
      "            break\n",
      "\n",
      "        pygame.draw.rect(dis, black, [lead_x, lead_y, 10, 10])\n",
      "        Your_score(score)\n",
      "        for x in snake_list[:-1]:\n",
      "            pygame.draw.rect(dis, yellow, [x[0], x[1], 10, 10])\n",
      "\n",
      "        lead_x = head[0]\n",
      "        lead_y = head[1]\n",
      "\n",
      "        score += 1\n",
      "        pygame.display.update()\n",
      "\n",
      "        clock.tick(20)\n",
      "\n",
      "score = 0\n",
      "game()\n",
      "```\n",
      "\n",
      "This script creates a window of size 600x400 and initializes the Pygame library. It also defines some colors which will be used later in the code.\n",
      "\n",
      "The `Your_score` function is used to draw your current score on the top left corner of the screen, while `game_over` function is called when the game ends.\n",
      "\n",
      "In the `our_snake` function we draw each square that represents a part of our snake. The `message` function draws any message on the middle of the window.\n",
      "\n",
      "Finally, in the `game` function we initialize everything that's necessary for the game to start and then enter an infinite loop which continues until you close the window or your snake hits itself or goes outside the screen.\n",
      "\n",
      "Remember, this is a basic implementation. There are ways to improve it like adding sound effects, smooth movement of the snake, scoring system etc.\n",
      "\n",
      "Note: Make sure you have pygame library installed in your Python environment by running `pip install pygame` command in your terminal.\n"
     ]
    }
   ],
   "source": [
    "print(response['message']['content'])"
   ]
  }
 ],
 "metadata": {
  "kernelspec": {
   "display_name": "Python 3 (ipykernel)",
   "language": "python",
   "name": "python3"
  },
  "language_info": {
   "codemirror_mode": {
    "name": "ipython",
    "version": 3
   },
   "file_extension": ".py",
   "mimetype": "text/x-python",
   "name": "python",
   "nbconvert_exporter": "python",
   "pygments_lexer": "ipython3",
   "version": "3.11.3"
  }
 },
 "nbformat": 4,
 "nbformat_minor": 5
}
